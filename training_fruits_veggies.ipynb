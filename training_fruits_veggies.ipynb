{
  "cells": [
    {
      "cell_type": "markdown",
      "metadata": {
        "id": "view-in-github",
        "colab_type": "text"
      },
      "source": [
        "<a href=\"https://colab.research.google.com/github/PatelDev14/Fruits-and-Vegetable-Recognition/blob/main/training_fruits_veggies.ipynb\" target=\"_parent\"><img src=\"https://colab.research.google.com/assets/colab-badge.svg\" alt=\"Open In Colab\"/></a>"
      ]
    },
    {
      "cell_type": "markdown",
      "source": [
        "#Importing DataSet\n"
      ],
      "metadata": {
        "id": "Hr9wH0G0XVfM"
      }
    },
    {
      "cell_type": "code",
      "execution_count": null,
      "metadata": {
        "id": "2QAgcC4Gv6H3",
        "colab": {
          "base_uri": "https://localhost:8080/"
        },
        "outputId": "1f0abc5f-2a2e-4f3d-f894-fda75e980f53"
      },
      "outputs": [
        {
          "output_type": "stream",
          "name": "stdout",
          "text": [
            "Drive already mounted at /content/drive; to attempt to forcibly remount, call drive.mount(\"/content/drive\", force_remount=True).\n"
          ]
        }
      ],
      "source": [
        "from google.colab import drive\n",
        "drive.mount('/content/drive')"
      ]
    },
    {
      "cell_type": "markdown",
      "source": [
        "#Importing some libraries"
      ],
      "metadata": {
        "id": "i1YbnWE_Z6DL"
      }
    },
    {
      "cell_type": "markdown",
      "source": [],
      "metadata": {
        "id": "CCYWPKjjZ5XU"
      }
    },
    {
      "cell_type": "code",
      "source": [
        "import numpy as np\n",
        "import tensorflow as tf\n",
        "import matplotlib.pyplot as plt"
      ],
      "metadata": {
        "id": "yl21W5_VZ-NQ"
      },
      "execution_count": null,
      "outputs": []
    },
    {
      "cell_type": "markdown",
      "source": [
        "#Data Preprocessing\n",
        "Validation Data is used for model training.\n",
        "Test Data is used for model testing"
      ],
      "metadata": {
        "id": "V0DBEGz2a2Ax"
      }
    },
    {
      "cell_type": "markdown",
      "source": [
        "##Training Image Preprocessing"
      ],
      "metadata": {
        "id": "CExRQaGPbfFa"
      }
    },
    {
      "cell_type": "code",
      "source": [
        "training_set = tf.keras.utils.image_dataset_from_directory(\n",
        "    '/content/drive/MyDrive/Fruits_Veggies_Recoginition/train',\n",
        "    labels = \"inferred\",\n",
        "    label_mode = \"categorical\",\n",
        "    class_names = None,\n",
        "    color_mode = \"rgb\",\n",
        "    batch_size = 32,\n",
        "    image_size = (64,64),\n",
        "    shuffle = True,\n",
        "    seed = None,\n",
        "    validation_split = None,\n",
        "    subset = None,\n",
        "    interpolation = \"bilinear\",\n",
        "    follow_links = False,\n",
        "    crop_to_aspect_ratio = False\n",
        ")"
      ],
      "metadata": {
        "colab": {
          "base_uri": "https://localhost:8080/"
        },
        "id": "NpKQ9mMjblXe",
        "outputId": "c0ed92da-e3a6-4afa-f413-1b4610474193"
      },
      "execution_count": null,
      "outputs": [
        {
          "output_type": "stream",
          "name": "stdout",
          "text": [
            "Found 3115 files belonging to 36 classes.\n"
          ]
        }
      ]
    },
    {
      "cell_type": "markdown",
      "source": [
        "## Validation Image Preprocessing"
      ],
      "metadata": {
        "id": "IhLEPUU5gPCV"
      }
    },
    {
      "cell_type": "code",
      "source": [
        "validation_set = tf.keras.utils.image_dataset_from_directory(\n",
        "    '/content/drive/MyDrive/Fruits_Veggies_Recoginition/validation',\n",
        "    labels = \"inferred\",\n",
        "    label_mode = \"categorical\",\n",
        "    class_names = None,\n",
        "    color_mode = \"rgb\",\n",
        "    batch_size = 32,\n",
        "    image_size = (64,64),\n",
        "    shuffle = True,\n",
        "    seed = None,\n",
        "    validation_split = None,\n",
        "    subset = None,\n",
        "    interpolation = \"bilinear\",\n",
        "    follow_links = False,\n",
        "    crop_to_aspect_ratio = False\n",
        ")"
      ],
      "metadata": {
        "colab": {
          "base_uri": "https://localhost:8080/"
        },
        "id": "ujPFgsy5gsSn",
        "outputId": "73e84ff3-4ce4-45d8-c7e7-40971997d3c3"
      },
      "execution_count": null,
      "outputs": [
        {
          "output_type": "stream",
          "name": "stdout",
          "text": [
            "Found 351 files belonging to 36 classes.\n"
          ]
        }
      ]
    },
    {
      "cell_type": "markdown",
      "source": [
        "##Building Model"
      ],
      "metadata": {
        "id": "QYkcp234nvWk"
      }
    },
    {
      "cell_type": "code",
      "source": [
        "cnn = tf.keras.models.Sequential()"
      ],
      "metadata": {
        "id": "ghmd1mqYn1y5"
      },
      "execution_count": null,
      "outputs": []
    },
    {
      "cell_type": "markdown",
      "source": [
        "##Building Convolution Layer"
      ],
      "metadata": {
        "id": "QO_m4xhSoV3u"
      }
    },
    {
      "cell_type": "code",
      "source": [
        "cnn.add(tf.keras.layers.Conv2D(filters=64, kernel_size=3,activation='relu', input_shape=[64,64,3]))\n",
        "cnn.add(tf.keras.layers.Conv2D(filters=32,kernel_size=3,activation='relu'))\n",
        "cnn.add(tf.keras.layers.MaxPool2D(pool_size=2, strides=2))"
      ],
      "metadata": {
        "id": "BAGQ2QR1onmh"
      },
      "execution_count": null,
      "outputs": []
    },
    {
      "cell_type": "code",
      "source": [
        "cnn.add(tf.keras.layers.Conv2D(filters=64, kernel_size=3,activation='relu'))\n",
        "cnn.add(tf.keras.layers.Conv2D(filters=64, kernel_size=3,activation='relu'))\n",
        "cnn.add(tf.keras.layers.MaxPool2D(pool_size=2, strides=2))"
      ],
      "metadata": {
        "id": "L6XrIGP4piTl"
      },
      "execution_count": null,
      "outputs": []
    },
    {
      "cell_type": "code",
      "source": [
        "#cnn.add(tf.keras.layers.Dropout(0.5)) #To avoid overfitting"
      ],
      "metadata": {
        "id": "93kudsOZp6Z-"
      },
      "execution_count": null,
      "outputs": []
    },
    {
      "cell_type": "code",
      "source": [
        "cnn.add(tf.keras.layers.Flatten())"
      ],
      "metadata": {
        "id": "nO8s35RdqEDv"
      },
      "execution_count": null,
      "outputs": []
    },
    {
      "cell_type": "code",
      "source": [
        "cnn.add(tf.keras.layers.Dense(units=512, activation='relu'))"
      ],
      "metadata": {
        "id": "iLpMZI5aqJ81"
      },
      "execution_count": null,
      "outputs": []
    },
    {
      "cell_type": "code",
      "source": [
        "cnn.add(tf.keras.layers.Dense(units=256, activation='relu'))"
      ],
      "metadata": {
        "id": "EdWJ7TRjbQDx"
      },
      "execution_count": null,
      "outputs": []
    },
    {
      "cell_type": "code",
      "source": [
        "cnn.add(tf.keras.layers.Dropout(0.5)) #To avoid overfitting"
      ],
      "metadata": {
        "id": "OL_9A0H3bSBC"
      },
      "execution_count": null,
      "outputs": []
    },
    {
      "cell_type": "code",
      "source": [
        "cnn.add(tf.keras.layers.Dense(units=36, activation='softmax')) #Output Layer, we are 36 here because we have 36 classes"
      ],
      "metadata": {
        "id": "uNmX9e2DqU9S"
      },
      "execution_count": null,
      "outputs": []
    },
    {
      "cell_type": "markdown",
      "source": [
        "##Compiling and Training Phase"
      ],
      "metadata": {
        "id": "cEcg-IueqzK1"
      }
    },
    {
      "cell_type": "code",
      "source": [
        "cnn.compile(optimizer = 'adam', loss = 'categorical_crossentropy', metrics = ['accuracy']) #Because we have more thann 2 classes so we use categorical"
      ],
      "metadata": {
        "id": "4qI2wD8Rq1xC"
      },
      "execution_count": null,
      "outputs": []
    },
    {
      "cell_type": "code",
      "source": [
        "cnn.summary()\n"
      ],
      "metadata": {
        "colab": {
          "base_uri": "https://localhost:8080/"
        },
        "id": "dXU_pHSPHknz",
        "outputId": "8c1e8816-3b76-4d42-95d8-2464dc40364c"
      },
      "execution_count": null,
      "outputs": [
        {
          "output_type": "stream",
          "name": "stdout",
          "text": [
            "Model: \"sequential\"\n",
            "_________________________________________________________________\n",
            " Layer (type)                Output Shape              Param #   \n",
            "=================================================================\n",
            " conv2d (Conv2D)             (None, 62, 62, 64)        1792      \n",
            "                                                                 \n",
            " conv2d_1 (Conv2D)           (None, 60, 60, 32)        18464     \n",
            "                                                                 \n",
            " max_pooling2d (MaxPooling2  (None, 30, 30, 32)        0         \n",
            " D)                                                              \n",
            "                                                                 \n",
            " conv2d_2 (Conv2D)           (None, 28, 28, 64)        18496     \n",
            "                                                                 \n",
            " conv2d_3 (Conv2D)           (None, 26, 26, 64)        36928     \n",
            "                                                                 \n",
            " max_pooling2d_1 (MaxPoolin  (None, 13, 13, 64)        0         \n",
            " g2D)                                                            \n",
            "                                                                 \n",
            " flatten (Flatten)           (None, 10816)             0         \n",
            "                                                                 \n",
            " dense (Dense)               (None, 512)               5538304   \n",
            "                                                                 \n",
            " dense_1 (Dense)             (None, 256)               131328    \n",
            "                                                                 \n",
            " dropout (Dropout)           (None, 256)               0         \n",
            "                                                                 \n",
            " dense_2 (Dense)             (None, 36)                9252      \n",
            "                                                                 \n",
            "=================================================================\n",
            "Total params: 5754564 (21.95 MB)\n",
            "Trainable params: 5754564 (21.95 MB)\n",
            "Non-trainable params: 0 (0.00 Byte)\n",
            "_________________________________________________________________\n"
          ]
        }
      ]
    },
    {
      "cell_type": "markdown",
      "source": [
        "##Saving Model"
      ],
      "metadata": {
        "id": "jIaaBWVA_X48"
      }
    },
    {
      "cell_type": "code",
      "source": [
        "training_history = cnn.fit(x = training_set, validation_data = validation_set, epochs = 32)"
      ],
      "metadata": {
        "colab": {
          "base_uri": "https://localhost:8080/"
        },
        "id": "DmmvkCCzInDi",
        "outputId": "65e77ad9-ef17-4e7d-da40-6a482b99b4dd"
      },
      "execution_count": null,
      "outputs": [
        {
          "output_type": "stream",
          "name": "stdout",
          "text": [
            "Epoch 1/32\n",
            "98/98 [==============================] - 985s 9s/step - loss: 4.6280 - accuracy: 0.0404 - val_loss: 3.3745 - val_accuracy: 0.0855\n",
            "Epoch 2/32\n",
            "98/98 [==============================] - 173s 2s/step - loss: 3.3854 - accuracy: 0.0709 - val_loss: 3.0786 - val_accuracy: 0.1852\n",
            "Epoch 3/32\n",
            "98/98 [==============================] - 169s 2s/step - loss: 3.1488 - accuracy: 0.1191 - val_loss: 2.6284 - val_accuracy: 0.2877\n",
            "Epoch 4/32\n",
            "98/98 [==============================] - 176s 2s/step - loss: 2.8515 - accuracy: 0.2151 - val_loss: 2.1309 - val_accuracy: 0.4900\n",
            "Epoch 5/32\n",
            "98/98 [==============================] - 171s 2s/step - loss: 2.3238 - accuracy: 0.3512 - val_loss: 1.7412 - val_accuracy: 0.6011\n",
            "Epoch 6/32\n",
            "98/98 [==============================] - 176s 2s/step - loss: 1.7975 - accuracy: 0.5018 - val_loss: 0.9408 - val_accuracy: 0.7721\n",
            "Epoch 7/32\n",
            "98/98 [==============================] - 172s 2s/step - loss: 1.3704 - accuracy: 0.6135 - val_loss: 0.8259 - val_accuracy: 0.8063\n",
            "Epoch 8/32\n",
            "98/98 [==============================] - 179s 2s/step - loss: 1.0941 - accuracy: 0.7002 - val_loss: 0.6436 - val_accuracy: 0.8746\n",
            "Epoch 9/32\n",
            "98/98 [==============================] - 172s 2s/step - loss: 0.7904 - accuracy: 0.7766 - val_loss: 0.5938 - val_accuracy: 0.8946\n",
            "Epoch 10/32\n",
            "98/98 [==============================] - 167s 2s/step - loss: 0.7611 - accuracy: 0.7952 - val_loss: 0.7484 - val_accuracy: 0.8661\n",
            "Epoch 11/32\n",
            "98/98 [==============================] - 185s 2s/step - loss: 0.5491 - accuracy: 0.8514 - val_loss: 0.5270 - val_accuracy: 0.9117\n",
            "Epoch 12/32\n",
            "98/98 [==============================] - 171s 2s/step - loss: 0.4430 - accuracy: 0.8819 - val_loss: 0.5716 - val_accuracy: 0.9259\n",
            "Epoch 13/32\n",
            "98/98 [==============================] - 165s 2s/step - loss: 0.3592 - accuracy: 0.8982 - val_loss: 0.5520 - val_accuracy: 0.9345\n",
            "Epoch 14/32\n",
            "98/98 [==============================] - 181s 2s/step - loss: 0.3249 - accuracy: 0.9111 - val_loss: 0.4593 - val_accuracy: 0.9288\n",
            "Epoch 15/32\n",
            "98/98 [==============================] - 172s 2s/step - loss: 0.3170 - accuracy: 0.9108 - val_loss: 0.6381 - val_accuracy: 0.9060\n",
            "Epoch 16/32\n",
            "98/98 [==============================] - 167s 2s/step - loss: 0.2495 - accuracy: 0.9368 - val_loss: 0.5799 - val_accuracy: 0.9345\n",
            "Epoch 17/32\n",
            "98/98 [==============================] - 178s 2s/step - loss: 0.3401 - accuracy: 0.9165 - val_loss: 0.5443 - val_accuracy: 0.9373\n",
            "Epoch 18/32\n",
            "98/98 [==============================] - 172s 2s/step - loss: 0.2361 - accuracy: 0.9393 - val_loss: 0.6378 - val_accuracy: 0.9430\n",
            "Epoch 19/32\n",
            "98/98 [==============================] - 172s 2s/step - loss: 0.2544 - accuracy: 0.9329 - val_loss: 0.4645 - val_accuracy: 0.9544\n",
            "Epoch 20/32\n",
            "98/98 [==============================] - 165s 2s/step - loss: 0.2782 - accuracy: 0.9332 - val_loss: 0.4129 - val_accuracy: 0.9516\n",
            "Epoch 21/32\n",
            "98/98 [==============================] - 170s 2s/step - loss: 0.1498 - accuracy: 0.9637 - val_loss: 0.4345 - val_accuracy: 0.9487\n",
            "Epoch 22/32\n",
            "98/98 [==============================] - 167s 2s/step - loss: 0.1714 - accuracy: 0.9596 - val_loss: 0.5644 - val_accuracy: 0.9544\n",
            "Epoch 23/32\n",
            "98/98 [==============================] - 165s 2s/step - loss: 0.1154 - accuracy: 0.9673 - val_loss: 0.6112 - val_accuracy: 0.9544\n",
            "Epoch 24/32\n",
            "98/98 [==============================] - 176s 2s/step - loss: 0.1393 - accuracy: 0.9624 - val_loss: 0.5830 - val_accuracy: 0.9459\n",
            "Epoch 25/32\n",
            "98/98 [==============================] - 176s 2s/step - loss: 0.1729 - accuracy: 0.9570 - val_loss: 0.5137 - val_accuracy: 0.9459\n",
            "Epoch 26/32\n",
            "98/98 [==============================] - 166s 2s/step - loss: 0.1270 - accuracy: 0.9689 - val_loss: 0.4614 - val_accuracy: 0.9544\n",
            "Epoch 27/32\n",
            "98/98 [==============================] - 181s 2s/step - loss: 0.1297 - accuracy: 0.9695 - val_loss: 0.4921 - val_accuracy: 0.9516\n",
            "Epoch 28/32\n",
            "98/98 [==============================] - 168s 2s/step - loss: 0.1226 - accuracy: 0.9685 - val_loss: 0.6986 - val_accuracy: 0.9288\n",
            "Epoch 29/32\n",
            "98/98 [==============================] - 164s 2s/step - loss: 0.1324 - accuracy: 0.9608 - val_loss: 0.5339 - val_accuracy: 0.9544\n",
            "Epoch 30/32\n",
            "98/98 [==============================] - 175s 2s/step - loss: 0.1409 - accuracy: 0.9602 - val_loss: 0.3829 - val_accuracy: 0.9573\n",
            "Epoch 31/32\n",
            "98/98 [==============================] - 170s 2s/step - loss: 0.1183 - accuracy: 0.9657 - val_loss: 0.4816 - val_accuracy: 0.9459\n",
            "Epoch 32/32\n",
            "98/98 [==============================] - 167s 2s/step - loss: 0.2085 - accuracy: 0.9483 - val_loss: 0.4940 - val_accuracy: 0.9516\n"
          ]
        }
      ]
    },
    {
      "cell_type": "code",
      "source": [
        "cnn.save('/Users/parth/Desktop/project/trained_model.h5')"
      ],
      "metadata": {
        "id": "XrHHietK_ZRO"
      },
      "execution_count": null,
      "outputs": []
    },
    {
      "cell_type": "code",
      "source": [
        "training_history.history #Return the dictionary f history"
      ],
      "metadata": {
        "colab": {
          "base_uri": "https://localhost:8080/"
        },
        "id": "bpxlB1v6_9R5",
        "outputId": "89e61516-b987-4972-ea66-e4b5a7592167"
      },
      "execution_count": null,
      "outputs": [
        {
          "output_type": "execute_result",
          "data": {
            "text/plain": [
              "{'loss': [4.627966403961182,\n",
              "  3.3853750228881836,\n",
              "  3.1488001346588135,\n",
              "  2.8514702320098877,\n",
              "  2.323761463165283,\n",
              "  1.7975411415100098,\n",
              "  1.370442271232605,\n",
              "  1.094144582748413,\n",
              "  0.7904374599456787,\n",
              "  0.7610798478126526,\n",
              "  0.5490778684616089,\n",
              "  0.44296887516975403,\n",
              "  0.3592101037502289,\n",
              "  0.324900358915329,\n",
              "  0.31699424982070923,\n",
              "  0.24952955543994904,\n",
              "  0.3401203751564026,\n",
              "  0.23611553013324738,\n",
              "  0.25436875224113464,\n",
              "  0.27815741300582886,\n",
              "  0.1498209536075592,\n",
              "  0.171413391828537,\n",
              "  0.11536619067192078,\n",
              "  0.13925178349018097,\n",
              "  0.17288371920585632,\n",
              "  0.127018004655838,\n",
              "  0.1297171413898468,\n",
              "  0.12258739769458771,\n",
              "  0.13244593143463135,\n",
              "  0.14092478156089783,\n",
              "  0.11834289878606796,\n",
              "  0.20845414698123932],\n",
              " 'accuracy': [0.040449436753988266,\n",
              "  0.07094702869653702,\n",
              "  0.11910112202167511,\n",
              "  0.21508827805519104,\n",
              "  0.3512038588523865,\n",
              "  0.5017656683921814,\n",
              "  0.6134831309318542,\n",
              "  0.7001605033874512,\n",
              "  0.7765650153160095,\n",
              "  0.7951846122741699,\n",
              "  0.8513643741607666,\n",
              "  0.8818619847297668,\n",
              "  0.8982343673706055,\n",
              "  0.9110754132270813,\n",
              "  0.9107544422149658,\n",
              "  0.9367576241493225,\n",
              "  0.9165329337120056,\n",
              "  0.9393258690834045,\n",
              "  0.9329053163528442,\n",
              "  0.9332263469696045,\n",
              "  0.96372389793396,\n",
              "  0.9595505595207214,\n",
              "  0.9672552347183228,\n",
              "  0.9624398350715637,\n",
              "  0.9569823145866394,\n",
              "  0.9688603281974792,\n",
              "  0.9695023894309998,\n",
              "  0.968539297580719,\n",
              "  0.9608346819877625,\n",
              "  0.9601926207542419,\n",
              "  0.9656500816345215,\n",
              "  0.9483146071434021],\n",
              " 'val_loss': [3.3745152950286865,\n",
              "  3.0786163806915283,\n",
              "  2.628403425216675,\n",
              "  2.1309239864349365,\n",
              "  1.7411949634552002,\n",
              "  0.9408389329910278,\n",
              "  0.8258954882621765,\n",
              "  0.643621563911438,\n",
              "  0.5938292145729065,\n",
              "  0.7483896017074585,\n",
              "  0.5270087122917175,\n",
              "  0.5716149210929871,\n",
              "  0.5520452260971069,\n",
              "  0.45932620763778687,\n",
              "  0.6380799412727356,\n",
              "  0.5798661708831787,\n",
              "  0.5443076491355896,\n",
              "  0.6378105282783508,\n",
              "  0.4644527733325958,\n",
              "  0.41294586658477783,\n",
              "  0.43448472023010254,\n",
              "  0.564380943775177,\n",
              "  0.6111918687820435,\n",
              "  0.5830242037773132,\n",
              "  0.5136764645576477,\n",
              "  0.4613621234893799,\n",
              "  0.49212056398391724,\n",
              "  0.6985965371131897,\n",
              "  0.5339362025260925,\n",
              "  0.38286706805229187,\n",
              "  0.48160460591316223,\n",
              "  0.49397385120391846],\n",
              " 'val_accuracy': [0.08547008782625198,\n",
              "  0.18518517911434174,\n",
              "  0.2877492904663086,\n",
              "  0.4900285005569458,\n",
              "  0.6011396050453186,\n",
              "  0.7720797657966614,\n",
              "  0.8062677979469299,\n",
              "  0.874643862247467,\n",
              "  0.8945869207382202,\n",
              "  0.8660968542098999,\n",
              "  0.9116809368133545,\n",
              "  0.9259259104728699,\n",
              "  0.934472918510437,\n",
              "  0.9287749528884888,\n",
              "  0.9059829115867615,\n",
              "  0.934472918510437,\n",
              "  0.9373219609260559,\n",
              "  0.9430199265480042,\n",
              "  0.9544159770011902,\n",
              "  0.9515669345855713,\n",
              "  0.9487179517745972,\n",
              "  0.9544159770011902,\n",
              "  0.9544159770011902,\n",
              "  0.945868968963623,\n",
              "  0.945868968963623,\n",
              "  0.9544159770011902,\n",
              "  0.9515669345855713,\n",
              "  0.9287749528884888,\n",
              "  0.9544159770011902,\n",
              "  0.9572649598121643,\n",
              "  0.945868968963623,\n",
              "  0.9515669345855713]}"
            ]
          },
          "metadata": {},
          "execution_count": 17
        }
      ]
    },
    {
      "cell_type": "markdown",
      "source": [
        "##Recoding History"
      ],
      "metadata": {
        "id": "R1sKO1xv_px6"
      }
    },
    {
      "cell_type": "code",
      "source": [
        "import json\n",
        "with open('training_hist.json', 'w') as f:\n",
        "  json.dump(training_history.history, f)"
      ],
      "metadata": {
        "id": "dN-z7mZO_s3D"
      },
      "execution_count": null,
      "outputs": []
    },
    {
      "cell_type": "code",
      "source": [
        "training_history.history.keys() #Keys of history"
      ],
      "metadata": {
        "colab": {
          "base_uri": "https://localhost:8080/"
        },
        "id": "ejcareiDANvV",
        "outputId": "c606b860-c019-4aed-ee02-1537775b6030"
      },
      "execution_count": null,
      "outputs": [
        {
          "output_type": "execute_result",
          "data": {
            "text/plain": [
              "dict_keys(['loss', 'accuracy', 'val_loss', 'val_accuracy'])"
            ]
          },
          "metadata": {},
          "execution_count": 19
        }
      ]
    },
    {
      "cell_type": "markdown",
      "source": [
        "##Calculating Accuracy of Model Achieved on Validation Set"
      ],
      "metadata": {
        "id": "8NMmH4zvAdiM"
      }
    },
    {
      "cell_type": "code",
      "source": [
        "print(\"Validation set Accuracy: {} %\" .format(training_history.history['val_accuracy'][-1]*100))"
      ],
      "metadata": {
        "colab": {
          "base_uri": "https://localhost:8080/"
        },
        "id": "OqQXh1SZAU9m",
        "outputId": "fe5f920f-72ce-4edd-db17-9e92c69e9858"
      },
      "execution_count": null,
      "outputs": [
        {
          "output_type": "stream",
          "name": "stdout",
          "text": [
            "Validation set Accuracy: 95.15669345855713 %\n"
          ]
        }
      ]
    },
    {
      "cell_type": "markdown",
      "source": [
        "##Accuracy Visualization\n",
        "###Training Visualization"
      ],
      "metadata": {
        "id": "pDEAtZuQfgAb"
      }
    },
    {
      "cell_type": "code",
      "source": [
        "epochs = [i for i in range(1,33)]\n",
        "plt.plot(epochs, training_history.history['accuracy'], color='red')\n",
        "plt.xlabel('Number of Epochs')\n",
        "plt.ylabel('Training Accuracy')\n",
        "plt.title('Visualization of Training Accuracy Result')\n",
        "plt.show()"
      ],
      "metadata": {
        "colab": {
          "base_uri": "https://localhost:8080/",
          "height": 472
        },
        "id": "L3VZNZuQfk9q",
        "outputId": "cffa8510-6870-4101-8aaa-520e740e909b"
      },
      "execution_count": null,
      "outputs": [
        {
          "output_type": "display_data",
          "data": {
            "text/plain": [
              "<Figure size 640x480 with 1 Axes>"
            ],
            "image/png": "[encoded data removed]"
          },
          "metadata": {}
        }
      ]
    },
    {
      "cell_type": "markdown",
      "source": [
        "##Validation Accuracy"
      ],
      "metadata": {
        "id": "JZ8Oy9upgdZx"
      }
    },
    {
      "cell_type": "code",
      "source": [
        "plt.plot(epochs, training_history.history['val_accuracy'], color='blue')\n",
        "plt.xlabel('Number of Epochs')\n",
        "plt.ylabel('Validation Accuracy')\n",
        "plt.title('Visualization of Validation Accuracy Result')\n",
        "plt.show()"
      ],
      "metadata": {
        "colab": {
          "base_uri": "https://localhost:8080/",
          "height": 472
        },
        "id": "a5mScYjTgfFS",
        "outputId": "d82d2518-d2fc-45d5-c30c-28509b9913f0"
      },
      "execution_count": null,
      "outputs": [
        {
          "output_type": "display_data",
          "data": {
            "text/plain": [
              "<Figure size 640x480 with 1 Axes>"
            ],
            "image/png": "[encoded data removed]"
          },
          "metadata": {}
        }
      ]
    },
    {
      "cell_type": "code",
      "source": [],
      "metadata": {
        "id": "ou6m9CitgrWG"
      },
      "execution_count": null,
      "outputs": []
    }
  ],
  "metadata": {
    "colab": {
      "provenance": [],
      "mount_file_id": "1HqEggQniJxjgbnYf2SYHlIv-OufxC145",
      "authorship_tag": "ABX9TyOhpMEPwfdGvk/LZIcq8xET",
      "include_colab_link": true
    },
    "kernelspec": {
      "display_name": "Python 3",
      "name": "python3"
    },
    "language_info": {
      "name": "python"
    }
  },
  "nbformat": 4,
  "nbformat_minor": 0
}